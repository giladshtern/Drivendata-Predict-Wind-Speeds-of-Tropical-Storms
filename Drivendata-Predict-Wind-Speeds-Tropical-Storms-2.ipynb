{
 "cells": [
  {
   "cell_type": "markdown",
   "metadata": {},
   "source": [
    "# Wind-dependent Variables: Predict Wind Speeds of Tropical Storms\n",
    "\n",
    "By Gilad Shtern 15-Jan-2020\n",
    "\n",
    "## Introduction\n",
    "\n",
    "In this challenge, you will estimate the wind_speed of a storm in knots at a given point in time using satellite imagery. The training data consist of single-band satellite images from 494 different storms in the Atlantic and East Pacific Oceans, along with their corresponding wind speeds. These images are captured at various times throughout the life cycle of each storm. Your goal is to build a model that outputs the wind speed associated with each image in the test set.\n",
    "\n",
    "For each storm in the training and test sets, you are given a time-series of images with their associated relative time since the beginning of the storm. Your models may take advantage of the temporal data provided for each storm up to the point of prediction. Keep in mind that the goal of this competition is to produce an operational model that uses recent images to estimate future wind speeds.\n",
    "Link: https://www.drivendata.org/competitions/72/predict-wind-speeds/page/275/"
   ]
  },
  {
   "cell_type": "markdown",
   "metadata": {},
   "source": [
    "Links:\n",
    "- https://www.nhc.noaa.gov/aboutsshws.php\n",
    "- https://www.unidata.ucar.edu/data/NGCS/lobjects/chp/structure/"
   ]
  },
  {
   "cell_type": "code",
   "execution_count": null,
   "metadata": {},
   "outputs": [],
   "source": [
    "#Step1- Load Train dataset\n",
    "import os\n",
    "import shutil\n",
    "import cv2\n",
    "import numpy as np\n",
    "import json\n",
    "import pandas as pd\n",
    "\n",
    "#path\n",
    "dirPath = 'G:/DataScienceProject/Drivendata-Predict-Wind-Speeds-of-Tropical-Storms'\n",
    "\n",
    "trainDF = pd.read_csv('G:/DataScienceProject/Drivendata-Predict-Wind-Speeds-of-Tropical-Storms/training_set_features.csv')\n",
    "trainLabelDF = pd.read_csv('G:/DataScienceProject/Drivendata-Predict-Wind-Speeds-of-Tropical-Storms/training_set_labels.csv')\n",
    "trainDF['wind_speed'] = ''\n",
    "trainDF['wind_speed'] = trainLabelDF['wind_speed']\n",
    "trainDF.head()\n",
    "\n",
    "testDF = pd.read_csv('G:/DataScienceProject/Drivendata-Predict-Wind-Speeds-of-Tropical-Storms/test_set_features.csv')"
   ]
  },
  {
   "cell_type": "code",
   "execution_count": null,
   "metadata": {},
   "outputs": [],
   "source": [
    "#Step2 - Check col types, NA, unique.\n",
    "df = pd.DataFrame(columns = ['Col', 'Type', 'NA', '%NA', 'UniqLen']) \n",
    "colList = list(trainDF)\n",
    "\n",
    "for i, value in enumerate(colList):\n",
    "    df.loc[i] = [value, trainDF.dtypes[i], trainDF[value].isna().sum(),  trainDF[value].isna().sum()/len(trainDF), len(trainDF[value].unique())]\n",
    "\n",
    "df"
   ]
  },
  {
   "cell_type": "code",
   "execution_count": null,
   "metadata": {},
   "outputs": [],
   "source": [
    "#Step3 - Resize all image into 224X224\n",
    "#Create img list\n",
    "trainImgList = os.listdir(dirPath + '/train/')\n",
    "testImgList = os.listdir(dirPath + '/test/')\n",
    "\n",
    "for i, value in enumerate(trainImgList ):\n",
    "    origImg = dirPath + '/train/' + value\n",
    "    img = cv2.imread(origImg)\n",
    "    \n",
    "    # dsize\n",
    "    dsize = (224, 224)\n",
    "    \n",
    "    output = cv2.resize(img, dsize)\n",
    "    cv2.imwrite(origImg, output)\n",
    "    \n",
    "for i, value in enumerate(testImgList ):\n",
    "    origImg = dirPath + '/test/' + value\n",
    "    img = cv2.imread(origImg)\n",
    "    \n",
    "    # dsize\n",
    "    dsize = (224, 224)\n",
    "    \n",
    "    output = cv2.resize(img, dsize)\n",
    "    cv2.imwrite(origImg, output)"
   ]
  },
  {
   "cell_type": "code",
   "execution_count": null,
   "metadata": {},
   "outputs": [],
   "source": [
    "print(\"Min wind speed: \", trainDF['wind_speed'].min())\n",
    "print(\"Miedian wind speed: \", trainDF['wind_speed'].median())\n",
    "print(\"Max wind speed: \", trainDF['wind_speed'].max())"
   ]
  },
  {
   "cell_type": "markdown",
   "metadata": {},
   "source": [
    "In this section, I will use a pre-traind model the based on the followed:\n",
    "Create category classifications:\n",
    "- The 1st category model was build on reletive one: \n",
    "- Image item wind speed - the lowest wind speed / wind speed range; then multiply by 10\n",
    "- The 2nd category model was build on absolute wind speed arbitrary - 3; then devide by 7\n",
    "\n",
    "The next step was to train each model via Fastai. Model-1 accuracy 96.8%, model-2 accruracy 93%.\n",
    "My current goal is to improve the accuracy by use combination of 2 models.\n"
   ]
  },
  {
   "cell_type": "code",
   "execution_count": 1,
   "metadata": {},
   "outputs": [],
   "source": [
    "#Step4 - Fastai Prediction\n",
    "import fastai\n",
    "from fastai.metrics import error_rate\n",
    "from fastai.vision import *\n",
    "import warnings\n",
    "warnings.filterwarnings('ignore')\n",
    "import pandas as pd\n",
    "import os\n",
    "import ctypes"
   ]
  },
  {
   "cell_type": "code",
   "execution_count": 2,
   "metadata": {},
   "outputs": [],
   "source": [
    "#Step5 - Predict by Model-1\n",
    "ctypes.cdll.LoadLibrary('caffe2_nvrtc.dll')\n",
    "learn = load_learner('G:/DataScienceProject/Drivendata-Predict-Wind-Speeds-of-Tropical-Storms/', 'fastai.pkl')\n",
    "testDF = pd.read_csv('G:/DataScienceProject/Drivendata-Predict-Wind-Speeds-of-Tropical-Storms/test_clean.csv')\n",
    "testDF['WindCat1']  = 0\n",
    "path = 'G:/DataScienceProject/Drivendata-Predict-Wind-Speeds-of-Tropical-Storms/test/'\n",
    "for i in range(0, len(testDF)):\n",
    "    file = path + testDF['image_id'].iloc[i] + '.jpg'  \n",
    "    img = open_image(file)\n",
    "    pred_class, pred_idx, output = learn.predict(img)\n",
    "    testDF['WindCat1'].iloc[i] = str(pred_class)\n"
   ]
  },
  {
   "cell_type": "code",
   "execution_count": 3,
   "metadata": {},
   "outputs": [],
   "source": [
    "#Step6 - Predict by Model-2\n",
    "ctypes.cdll.LoadLibrary('caffe2_nvrtc.dll')\n",
    "learn = load_learner('G:/DataScienceProject/Drivendata-Predict-Wind-Speeds-of-Tropical-Storms/', '2.pkl')\n",
    "testDF['WindCat2']  = 0\n",
    "path = 'G:/DataScienceProject/Drivendata-Predict-Wind-Speeds-of-Tropical-Storms/test/'\n",
    "for i in range(0, len(testDF)):\n",
    "    file = path + testDF['image_id'].iloc[i] + '.jpg'  \n",
    "    img = open_image(file)\n",
    "    pred_class, pred_idx, output = learn.predict(img)\n",
    "    testDF['WindCat2'].iloc[i] = str(pred_class)\n",
    "    \n",
    "testDF.to_csv('G:/DataScienceProject/Drivendata-Predict-Wind-Speeds-of-Tropical-Storms/test_pred_combined_model.csv', index=False)"
   ]
  },
  {
   "cell_type": "code",
   "execution_count": 2,
   "metadata": {
    "scrolled": true
   },
   "outputs": [],
   "source": [
    "#Step7 - Prepare Submission\n",
    "import pandas as pd\n",
    "testDF = pd.read_csv('G:/DataScienceProject/Drivendata-Predict-Wind-Speeds-of-Tropical-Storms/test_pred_combined_model.csv')\n",
    "testDF['Min1'] = 17 * (testDF['WindCat1'] - 1) + 15\n",
    "testDF['Min2'] = 7 * testDF['WindCat2'] + 3\n",
    "testDF['Max1'] = 17 * testDF['WindCat1'] + 15\n",
    "testDF['Max2'] = testDF['Min2'] + 7\n",
    "testDF['wind_speed'] = 0"
   ]
  },
  {
   "cell_type": "code",
   "execution_count": 3,
   "metadata": {},
   "outputs": [
    {
     "name": "stderr",
     "output_type": "stream",
     "text": [
      "C:\\Program Files\\Python38\\lib\\site-packages\\pandas\\core\\indexing.py:671: SettingWithCopyWarning: \n",
      "A value is trying to be set on a copy of a slice from a DataFrame\n",
      "\n",
      "See the caveats in the documentation: https://pandas.pydata.org/pandas-docs/stable/user_guide/indexing.html#returning-a-view-versus-a-copy\n",
      "  self._setitem_with_indexer(indexer, value)\n"
     ]
    },
    {
     "data": {
      "text/html": [
       "<div>\n",
       "<style scoped>\n",
       "    .dataframe tbody tr th:only-of-type {\n",
       "        vertical-align: middle;\n",
       "    }\n",
       "\n",
       "    .dataframe tbody tr th {\n",
       "        vertical-align: top;\n",
       "    }\n",
       "\n",
       "    .dataframe thead th {\n",
       "        text-align: right;\n",
       "    }\n",
       "</style>\n",
       "<table border=\"1\" class=\"dataframe\">\n",
       "  <thead>\n",
       "    <tr style=\"text-align: right;\">\n",
       "      <th></th>\n",
       "      <th>image_id</th>\n",
       "      <th>relative_time</th>\n",
       "      <th>ocean</th>\n",
       "      <th>WindCat</th>\n",
       "      <th>WindCat1</th>\n",
       "      <th>WindCat2</th>\n",
       "      <th>Min1</th>\n",
       "      <th>Min2</th>\n",
       "      <th>Max1</th>\n",
       "      <th>Max2</th>\n",
       "      <th>wind_speed</th>\n",
       "    </tr>\n",
       "  </thead>\n",
       "  <tbody>\n",
       "    <tr>\n",
       "      <th>0</th>\n",
       "      <td>acd_123</td>\n",
       "      <td>304198</td>\n",
       "      <td>1</td>\n",
       "      <td>NaN</td>\n",
       "      <td>2</td>\n",
       "      <td>4</td>\n",
       "      <td>32</td>\n",
       "      <td>31</td>\n",
       "      <td>49</td>\n",
       "      <td>38</td>\n",
       "      <td>40.5</td>\n",
       "    </tr>\n",
       "    <tr>\n",
       "      <th>1</th>\n",
       "      <td>acd_124</td>\n",
       "      <td>305998</td>\n",
       "      <td>1</td>\n",
       "      <td>NaN</td>\n",
       "      <td>2</td>\n",
       "      <td>4</td>\n",
       "      <td>32</td>\n",
       "      <td>31</td>\n",
       "      <td>49</td>\n",
       "      <td>38</td>\n",
       "      <td>40.5</td>\n",
       "    </tr>\n",
       "    <tr>\n",
       "      <th>2</th>\n",
       "      <td>acd_125</td>\n",
       "      <td>307798</td>\n",
       "      <td>1</td>\n",
       "      <td>NaN</td>\n",
       "      <td>1</td>\n",
       "      <td>3</td>\n",
       "      <td>15</td>\n",
       "      <td>24</td>\n",
       "      <td>32</td>\n",
       "      <td>31</td>\n",
       "      <td>28.0</td>\n",
       "    </tr>\n",
       "    <tr>\n",
       "      <th>3</th>\n",
       "      <td>acd_126</td>\n",
       "      <td>309598</td>\n",
       "      <td>1</td>\n",
       "      <td>NaN</td>\n",
       "      <td>1</td>\n",
       "      <td>4</td>\n",
       "      <td>15</td>\n",
       "      <td>31</td>\n",
       "      <td>32</td>\n",
       "      <td>38</td>\n",
       "      <td>34.5</td>\n",
       "    </tr>\n",
       "    <tr>\n",
       "      <th>4</th>\n",
       "      <td>acd_127</td>\n",
       "      <td>313198</td>\n",
       "      <td>1</td>\n",
       "      <td>NaN</td>\n",
       "      <td>1</td>\n",
       "      <td>3</td>\n",
       "      <td>15</td>\n",
       "      <td>24</td>\n",
       "      <td>32</td>\n",
       "      <td>31</td>\n",
       "      <td>28.0</td>\n",
       "    </tr>\n",
       "  </tbody>\n",
       "</table>\n",
       "</div>"
      ],
      "text/plain": [
       "  image_id  relative_time  ocean  WindCat  WindCat1  WindCat2  Min1  Min2  \\\n",
       "0  acd_123         304198      1      NaN         2         4    32    31   \n",
       "1  acd_124         305998      1      NaN         2         4    32    31   \n",
       "2  acd_125         307798      1      NaN         1         3    15    24   \n",
       "3  acd_126         309598      1      NaN         1         4    15    31   \n",
       "4  acd_127         313198      1      NaN         1         3    15    24   \n",
       "\n",
       "   Max1  Max2  wind_speed  \n",
       "0    49    38        40.5  \n",
       "1    49    38        40.5  \n",
       "2    32    31        28.0  \n",
       "3    32    38        34.5  \n",
       "4    32    31        28.0  "
      ]
     },
     "execution_count": 3,
     "metadata": {},
     "output_type": "execute_result"
    }
   ],
   "source": [
    "Lower = 0\n",
    "Upper = 0\n",
    "for i in range(0, len(testDF)):\n",
    "    if testDF['Min1'].iloc[i] >= testDF['Min2'].iloc[i]:\n",
    "        Lower = testDF['Min1'].iloc[i]\n",
    "    else:\n",
    "         Lower = testDF['Min2'].iloc[i]\n",
    "            \n",
    "    if testDF['Max1'].iloc[i] >= testDF['Max2'].iloc[i]:\n",
    "        Upper = testDF['Max1'].iloc[i]\n",
    "    else:\n",
    "         Upper = testDF['Max2'].iloc[i]\n",
    "            \n",
    "    testDF['wind_speed'].iloc[i] = (Lower + Upper)/2\n",
    "    \n",
    "testDF.head()"
   ]
  },
  {
   "cell_type": "code",
   "execution_count": 6,
   "metadata": {},
   "outputs": [],
   "source": [
    "testDF['wind_speed'] = testDF['wind_speed'].astype(\"int32\")\n",
    "submit = testDF.drop(['relative_time', 'ocean', 'WindCat', 'WindCat1', 'WindCat2', 'Min1', 'Min2', 'Max1', 'Max2'], axis=1)\n",
    "submit.to_csv('G:/DataScienceProject/Drivendata-Predict-Wind-Speeds-of-Tropical-Storms/submit2.csv', index=False)"
   ]
  },
  {
   "cell_type": "code",
   "execution_count": null,
   "metadata": {},
   "outputs": [],
   "source": []
  }
 ],
 "metadata": {
  "kernelspec": {
   "display_name": "Python 3",
   "language": "python",
   "name": "python3"
  },
  "language_info": {
   "codemirror_mode": {
    "name": "ipython",
    "version": 3
   },
   "file_extension": ".py",
   "mimetype": "text/x-python",
   "name": "python",
   "nbconvert_exporter": "python",
   "pygments_lexer": "ipython3",
   "version": "3.8.2"
  }
 },
 "nbformat": 4,
 "nbformat_minor": 4
}
